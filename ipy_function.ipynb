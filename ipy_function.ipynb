{
 "cells": [
  {
   "cell_type": "code",
   "execution_count": 9,
   "id": "e1fc94e6",
   "metadata": {},
   "outputs": [
    {
     "data": {
      "text/plain": [
       "9"
      ]
     },
     "execution_count": 9,
     "metadata": {},
     "output_type": "execute_result"
    }
   ],
   "source": [
    "def test(a,b):\n",
    "    ''' This fuction will give addition'''\n",
    "    return a+b\n",
    "test(4,5)"
   ]
  },
  {
   "cell_type": "code",
   "execution_count": 8,
   "id": "2022ef98",
   "metadata": {},
   "outputs": [
    {
     "data": {
      "text/plain": [
       "'samhappy'"
      ]
     },
     "execution_count": 8,
     "metadata": {},
     "output_type": "execute_result"
    }
   ],
   "source": [
    "test(\"sam\",\"happy\")"
   ]
  },
  {
   "cell_type": "code",
   "execution_count": 12,
   "id": "871edd14",
   "metadata": {},
   "outputs": [],
   "source": [
    "def test1(a,b,c,d,e):\n",
    "    return a+b,b+c,c+d,d+e,e+a"
   ]
  },
  {
   "cell_type": "code",
   "execution_count": 13,
   "id": "232e9d2f",
   "metadata": {},
   "outputs": [
    {
     "data": {
      "text/plain": [
       "(3, 5, 9, 11, 6)"
      ]
     },
     "execution_count": 13,
     "metadata": {},
     "output_type": "execute_result"
    }
   ],
   "source": [
    "test1(1,2,3,6,5)"
   ]
  },
  {
   "cell_type": "code",
   "execution_count": 16,
   "id": "dbaacfe3",
   "metadata": {},
   "outputs": [
    {
     "data": {
      "text/plain": [
       "(4, 5, 6, 9, 5, 2, 1)"
      ]
     },
     "execution_count": 16,
     "metadata": {},
     "output_type": "execute_result"
    }
   ],
   "source": [
    "def test(*a):\n",
    "    ''' This fuction will give addition'''\n",
    "    return a\n",
    "test(4,5,6,9,5,2,1)"
   ]
  },
  {
   "cell_type": "code",
   "execution_count": 18,
   "id": "32abd74e",
   "metadata": {},
   "outputs": [
    {
     "data": {
      "text/plain": [
       "((4, 5, 6, 9, 5, 2, 1), {})"
      ]
     },
     "execution_count": 18,
     "metadata": {},
     "output_type": "execute_result"
    }
   ],
   "source": [
    "def test(*a,**b):\n",
    "    ''' This fuction will give addition'''\n",
    "    return a,b\n",
    "test(4,5,6,9,5,2,1)"
   ]
  },
  {
   "cell_type": "code",
   "execution_count": 19,
   "id": "15fb6baf",
   "metadata": {},
   "outputs": [],
   "source": [
    "def test(*args):\n",
    "    return args"
   ]
  },
  {
   "cell_type": "code",
   "execution_count": 20,
   "id": "e031bcb5",
   "metadata": {},
   "outputs": [
    {
     "data": {
      "text/plain": [
       "(1, 2, 'h')"
      ]
     },
     "execution_count": 20,
     "metadata": {},
     "output_type": "execute_result"
    }
   ],
   "source": [
    "test(1,2,\"h\")"
   ]
  },
  {
   "cell_type": "code",
   "execution_count": 21,
   "id": "3066a490",
   "metadata": {},
   "outputs": [],
   "source": [
    "def test2(*a):\n",
    "    l=[]\n",
    "    for i in a:\n",
    "        l.append(i)\n",
    "    return l"
   ]
  },
  {
   "cell_type": "code",
   "execution_count": 22,
   "id": "6f6c23d0",
   "metadata": {},
   "outputs": [
    {
     "data": {
      "text/plain": [
       "[5]"
      ]
     },
     "execution_count": 22,
     "metadata": {},
     "output_type": "execute_result"
    }
   ],
   "source": [
    "test2(5)"
   ]
  },
  {
   "cell_type": "code",
   "execution_count": 23,
   "id": "17e5089c",
   "metadata": {},
   "outputs": [
    {
     "data": {
      "text/plain": [
       "[1, 2, 36, 5, [15, 6, 4, 3, 5], (1, 2, 5, 6, 3)]"
      ]
     },
     "execution_count": 23,
     "metadata": {},
     "output_type": "execute_result"
    }
   ],
   "source": [
    "test2(1,2,36,5,[15,6,4,3,5],(1,2,5,6,3))"
   ]
  },
  {
   "cell_type": "code",
   "execution_count": 24,
   "id": "35291989",
   "metadata": {},
   "outputs": [],
   "source": [
    "def test3(a,b,c,d,*m):\n",
    "    return a,b,c,d,*m"
   ]
  },
  {
   "cell_type": "code",
   "execution_count": 26,
   "id": "c5b25f1f",
   "metadata": {},
   "outputs": [
    {
     "data": {
      "text/plain": [
       "(1, 2, 3, 6, [45, 6, 9, 5, 8, 2, 1, 3, 6, 9])"
      ]
     },
     "execution_count": 26,
     "metadata": {},
     "output_type": "execute_result"
    }
   ],
   "source": [
    "test3(1,2,3,6,[45,6,9,5,8,2,1,3,6,9])"
   ]
  },
  {
   "cell_type": "code",
   "execution_count": 34,
   "id": "dbe37f3e",
   "metadata": {},
   "outputs": [],
   "source": [
    "# key value arguments\n",
    "def test4(**kwargs):\n",
    "    return kwargs\n"
   ]
  },
  {
   "cell_type": "code",
   "execution_count": 35,
   "id": "3d07b973",
   "metadata": {},
   "outputs": [
    {
     "data": {
      "text/plain": [
       "{'b': 4, 'h': 6, 'y': 10}"
      ]
     },
     "execution_count": 35,
     "metadata": {},
     "output_type": "execute_result"
    }
   ],
   "source": [
    "test4(b=4,h=6,y=10)"
   ]
  },
  {
   "cell_type": "code",
   "execution_count": 37,
   "id": "5ebb4d0e",
   "metadata": {},
   "outputs": [],
   "source": [
    "def test5(*args,**kwargs):\n",
    "    return args, kwargs"
   ]
  },
  {
   "cell_type": "code",
   "execution_count": 40,
   "id": "fd0b1894",
   "metadata": {},
   "outputs": [],
   "source": [
    "p = test5([1,2,3,6,5],h=4,t=10)"
   ]
  },
  {
   "cell_type": "code",
   "execution_count": 42,
   "id": "bc51f75b",
   "metadata": {},
   "outputs": [
    {
     "data": {
      "text/plain": [
       "tuple"
      ]
     },
     "execution_count": 42,
     "metadata": {},
     "output_type": "execute_result"
    }
   ],
   "source": [
    "type(p)"
   ]
  },
  {
   "cell_type": "code",
   "execution_count": 44,
   "id": "6adf9d8a",
   "metadata": {},
   "outputs": [],
   "source": [
    "def test6(*m,**n):\n",
    "    if m == int:\n",
    "        print(\"these are intigers\")\n",
    "    elif n == str:\n",
    "        print(\"these are srtings\")\n",
    "    else:\n",
    "        print()"
   ]
  },
  {
   "cell_type": "code",
   "execution_count": 45,
   "id": "ae3c25c7",
   "metadata": {},
   "outputs": [
    {
     "name": "stdout",
     "output_type": "stream",
     "text": [
      "\n"
     ]
    }
   ],
   "source": [
    "test6(2,'k')"
   ]
  },
  {
   "cell_type": "code",
   "execution_count": 55,
   "id": "ac62a35a",
   "metadata": {},
   "outputs": [],
   "source": [
    "def test7(*m):\n",
    "    n = 1\n",
    "    for i in m:\n",
    "        if type(i) == int:\n",
    "            n = n+i\n",
    "    return n"
   ]
  },
  {
   "cell_type": "code",
   "execution_count": 56,
   "id": "d5b5b3b7",
   "metadata": {},
   "outputs": [
    {
     "data": {
      "text/plain": [
       "7"
      ]
     },
     "execution_count": 56,
     "metadata": {},
     "output_type": "execute_result"
    }
   ],
   "source": [
    "test7(6)"
   ]
  },
  {
   "cell_type": "code",
   "execution_count": 58,
   "id": "dd5c6760",
   "metadata": {},
   "outputs": [],
   "source": [
    "n = lambda a, b : a+b"
   ]
  },
  {
   "cell_type": "code",
   "execution_count": 60,
   "id": "7a16e309",
   "metadata": {},
   "outputs": [
    {
     "data": {
      "text/plain": [
       "5"
      ]
     },
     "execution_count": 60,
     "metadata": {},
     "output_type": "execute_result"
    }
   ],
   "source": [
    "n(2,3)"
   ]
  },
  {
   "cell_type": "code",
   "execution_count": 63,
   "id": "180c3bd2",
   "metadata": {},
   "outputs": [],
   "source": [
    "b = lambda *sam : sam"
   ]
  },
  {
   "cell_type": "code",
   "execution_count": 64,
   "id": "f0282a66",
   "metadata": {},
   "outputs": [
    {
     "data": {
      "text/plain": [
       "(1, 2, 3, 6, 59, 8, 8)"
      ]
     },
     "execution_count": 64,
     "metadata": {},
     "output_type": "execute_result"
    }
   ],
   "source": [
    "b(1,2,3,6,59,8,8)"
   ]
  },
  {
   "cell_type": "code",
   "execution_count": 65,
   "id": "27fae901",
   "metadata": {},
   "outputs": [],
   "source": [
    "t = (1,5,9,8,7,5,46,1,5,6,9,4)\n",
    "l = []\n",
    "for i in t:\n",
    "    l.append(i)"
   ]
  },
  {
   "cell_type": "code",
   "execution_count": 66,
   "id": "5ee9613b",
   "metadata": {},
   "outputs": [
    {
     "data": {
      "text/plain": [
       "[1, 5, 9, 8, 7, 5, 46, 1, 5, 6, 9, 4]"
      ]
     },
     "execution_count": 66,
     "metadata": {},
     "output_type": "execute_result"
    }
   ],
   "source": [
    "l"
   ]
  },
  {
   "cell_type": "code",
   "execution_count": 67,
   "id": "33506756",
   "metadata": {},
   "outputs": [
    {
     "data": {
      "text/plain": [
       "[1, 5, 9, 8, 7, 5, 46, 1, 5, 6, 9, 4]"
      ]
     },
     "execution_count": 67,
     "metadata": {},
     "output_type": "execute_result"
    }
   ],
   "source": [
    "[i for i in t]"
   ]
  },
  {
   "cell_type": "code",
   "execution_count": 70,
   "id": "af69b450",
   "metadata": {},
   "outputs": [
    {
     "data": {
      "text/plain": [
       "[0, 2, 4, 6, 8, 10, 12, 14, 16, 18]"
      ]
     },
     "execution_count": 70,
     "metadata": {},
     "output_type": "execute_result"
    }
   ],
   "source": [
    "[i*2 for i in range(10)]"
   ]
  },
  {
   "cell_type": "code",
   "execution_count": 74,
   "id": "e6e53e97",
   "metadata": {},
   "outputs": [
    {
     "data": {
      "text/plain": [
       "[0, 1, 4, 9, 16, 25, 36, 49, 64, 81]"
      ]
     },
     "execution_count": 74,
     "metadata": {},
     "output_type": "execute_result"
    }
   ],
   "source": [
    "[i*i for i in range(10)]"
   ]
  },
  {
   "cell_type": "code",
   "execution_count": 81,
   "id": "01c17066",
   "metadata": {},
   "outputs": [],
   "source": [
    "#test14(a = 7,b=\"sudh\",c = 345,l = [2,3,4,5,6,\"sudh\"])\n",
    "def test14(**kwargs):\n",
    "    count = 0\n",
    "    for i in kwargs.values():\n",
    "        if type(i) == int or type(i) == list:\n",
    "            count +=1\n",
    "    return count\n",
    "    "
   ]
  },
  {
   "cell_type": "code",
   "execution_count": 82,
   "id": "fb075ec9",
   "metadata": {},
   "outputs": [
    {
     "data": {
      "text/plain": [
       "3"
      ]
     },
     "execution_count": 82,
     "metadata": {},
     "output_type": "execute_result"
    }
   ],
   "source": [
    "test14(a = 7,b=\"sudh\",c = 345,l = [2,3,4,5,6,\"sudh\"])"
   ]
  },
  {
   "cell_type": "code",
   "execution_count": null,
   "id": "33ea1158",
   "metadata": {},
   "outputs": [],
   "source": []
  }
 ],
 "metadata": {
  "kernelspec": {
   "display_name": "Python 3 (ipykernel)",
   "language": "python",
   "name": "python3"
  },
  "language_info": {
   "codemirror_mode": {
    "name": "ipython",
    "version": 3
   },
   "file_extension": ".py",
   "mimetype": "text/x-python",
   "name": "python",
   "nbconvert_exporter": "python",
   "pygments_lexer": "ipython3",
   "version": "3.8.10"
  }
 },
 "nbformat": 4,
 "nbformat_minor": 5
}
